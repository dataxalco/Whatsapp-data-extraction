{
  "nbformat": 4,
  "nbformat_minor": 0,
  "metadata": {
    "colab": {
      "provenance": [],
      "include_colab_link": true
    },
    "kernelspec": {
      "name": "python3",
      "display_name": "Python 3"
    },
    "language_info": {
      "name": "python"
    }
  },
  "cells": [
    {
      "cell_type": "markdown",
      "metadata": {
        "id": "view-in-github",
        "colab_type": "text"
      },
      "source": [
        "<a href=\"https://colab.research.google.com/github/dataxalco/Whatsapp-data-extraction/blob/main/CaregiverRotaToClientSchedule.ipynb\" target=\"_parent\"><img src=\"https://colab.research.google.com/assets/colab-badge.svg\" alt=\"Open In Colab\"/></a>"
      ]
    },
    {
      "cell_type": "markdown",
      "source": [
        "# **Instructions**\n",
        "\n",
        "This notebook reformats a caregiver rota to per-client schedules displayed in\n",
        "a calendar view."
      ],
      "metadata": {
        "id": "T6Kmvj5fb76S"
      }
    },
    {
      "cell_type": "markdown",
      "source": [
        "## **1. Import Dependencies**"
      ],
      "metadata": {
        "id": "b_u4EiBfIRfP"
      }
    },
    {
      "cell_type": "code",
      "execution_count": 7,
      "metadata": {
        "id": "RjtsDm-Mb4Hp"
      },
      "outputs": [],
      "source": [
        "import pandas as pd\n",
        "import calendar\n",
        "import gspread\n",
        "from google.colab import auth, drive\n",
        "from google.auth import default\n",
        "from datetime import datetime\n",
        "from openpyxl import load_workbook\n",
        "from openpyxl.styles import Font, Border, Side\n",
        "\n",
        "# Authenticate and create the PyDrive client\n",
        "auth.authenticate_user()\n",
        "\n",
        "# Connect to Google Sheets\n",
        "gc = gspread.authorize(default()[0])"
      ]
    },
    {
      "cell_type": "markdown",
      "source": [
        "## **2. User Input and Customization**\n",
        "\n",
        "You need to open the code below to input your desired values. For each input, either enter a value when prompted or hit \"Enter\" to accept the default.\n",
        "\n",
        "To find your Google Sheet Id, go to your Google Sheet, and in the URL, find the sheet_id:\n",
        "\n",
        "  *   Example URL: https://docs.google.com/spreadsheets/d/your_sheet_id/edit#gid=0\n",
        "\n",
        "  *   The sheet_id is the part that comes after /d/ and before /edit."
      ],
      "metadata": {
        "id": "tnN8yg8_LXNG"
      }
    },
    {
      "cell_type": "code",
      "source": [
        "# Configure Google sheet\n",
        "sheet_id = input(\"Enter the sheet id of the caregiver Rota: \").strip() or \"1E_2kTuIfz6QVFR1b5GhTv9hB5hzYI0vM2pqly1vLNPo\"\n",
        "sheet_name = input(\"Enter the sheet name ('Rota' by default): \").strip() or \"Rota\"\n",
        "output_excel_path = input(\n",
        "    \"Choose the name of the Excel file that will be created (Combined_CaregiverRota.xlsx by default): \").strip() or \"Combined_CaregiverRota.xlsx\"\n",
        "\n",
        "# Configure date and time\n",
        "now = datetime.now()\n",
        "year = int(input(\"Enter the year you're planning for (current year by default): \").strip() or now.year)\n",
        "month = int(input(\"Enter the month you're planning for (e.g. 8, current month by default): \").strip() or now.month)\n",
        "day = int(input(\"Enter the day of the month you want to start with (e.g. 19, 1 by default): \").strip() or 1)\n",
        "num_days = calendar.monthrange(year, month)[1]\n",
        "first_day = datetime(year, month, day).weekday()"
      ],
      "metadata": {
        "colab": {
          "base_uri": "https://localhost:8080/"
        },
        "id": "YodmGZEALbPW",
        "outputId": "edb31cc1-bece-4193-f470-0388c0096250"
      },
      "execution_count": 8,
      "outputs": [
        {
          "name": "stdout",
          "output_type": "stream",
          "text": [
            "Enter the sheet id of the caregiver Rota: 1E_2kTuIfz6QVFR1b5GhTv9hB5hzYI0vM2pqly1vLNPo\n",
            "Enter the sheet name ('Rota' by default): Rota\n",
            "Choose the name of the Excel file that will be created (Combined_CaregiverRota.xlsx by default): test.xlsx\n",
            "Enter the year you're planning for (current year by default): 2024\n",
            "Enter the month you're planning for (e.g. 8, current month by default): 8\n",
            "Enter the day of the month you want to start with (e.g. 19, 1 by default): 1\n"
          ]
        }
      ]
    },
    {
      "cell_type": "markdown",
      "source": [
        "## **3. Load the Rota**"
      ],
      "metadata": {
        "id": "CEJsO4IocVr8"
      }
    },
    {
      "cell_type": "code",
      "source": [
        "# Open Google Sheet using the Google Sheet ID\n",
        "sheet = gc.open_by_key(sheet_id)\n",
        "\n",
        "# Select the first sheet (worksheet) in the Google Sheet\n",
        "worksheet = sheet.worksheet(sheet_name)\n",
        "\n",
        "# Convert the worksheet to a pandas DataFrame\n",
        "df = pd.DataFrame(worksheet.get('A5:ZZ'))"
      ],
      "metadata": {
        "id": "5J9i-JRCcTyD"
      },
      "execution_count": 9,
      "outputs": []
    },
    {
      "cell_type": "markdown",
      "source": [
        "## **4. Define a helper function to build the new spreadsheet**"
      ],
      "metadata": {
        "id": "Xx8acDpSGc13"
      }
    },
    {
      "cell_type": "code",
      "source": [
        "def build_sheet(row, day):\n",
        "    \"\"\"\n",
        "    Save a DataFrame to a CSV file.\n",
        "\n",
        "    Parameters:\n",
        "    data (pd.DataFrame): The DataFrame containing the data to save.\n",
        "    filename (str): The name of the CSV file to save the data into.\n",
        "\n",
        "    Returns:\n",
        "    None\n",
        "    \"\"\"\n",
        "    data = []\n",
        "    columns = ['', '', '', row.iloc[2], '', '', '', '']\n",
        "    days_of_the_week = ['', 'Monday', 'Tuesday', 'Wednesday', 'Thursday', 'Friday', 'Saturday', 'Sunday']\n",
        "\n",
        "    # The start of the shift schedule is in column 10.\n",
        "    col = 10\n",
        "    for i in range(6):\n",
        "        line = [\"\"]\n",
        "        dayshift = [\"Dayshift\"]\n",
        "        nightshift = [\"Nightshift\"]\n",
        "        data.append(days_of_the_week)\n",
        "        for j in range(7):\n",
        "            if i == 0 and j < first_day:\n",
        "                line.append(\"\")\n",
        "                dayshift.append(\"\")\n",
        "                nightshift.append(\"\")\n",
        "            elif day > num_days:\n",
        "                line.append(\"\")\n",
        "                dayshift.append(\"\")\n",
        "                nightshift.append(\"\")\n",
        "            else:\n",
        "                line.append(calendar.month_name[month] + \"-\" + str(day))\n",
        "                dayshift.append(str(row.iloc[col]).split(' ')[0])\n",
        "                nightshift.append(str(row.iloc[col+1]).split(' ')[0])\n",
        "                day += 1\n",
        "                col += 2\n",
        "        data.append(line)\n",
        "        data.append(dayshift)\n",
        "        data.append(nightshift)\n",
        "        if day > 31:\n",
        "            break\n",
        "\n",
        "    return pd.DataFrame(data, columns=columns)"
      ],
      "metadata": {
        "id": "JrseNBDccA0P"
      },
      "execution_count": 10,
      "outputs": []
    },
    {
      "cell_type": "markdown",
      "source": [
        "## **5. Create the output excel file**"
      ],
      "metadata": {
        "id": "ibedaYnaGjEE"
      }
    },
    {
      "cell_type": "code",
      "source": [
        "# Create an Excel writer to save all sheets into one Excel file\n",
        "# First, write the data to the Excel file using Pandas\n",
        "with pd.ExcelWriter(output_excel_path, engine='openpyxl') as writer:\n",
        "    # Iterate over each row in the DataFrame\n",
        "    for index, row in df.iterrows():\n",
        "        # Extract the patient/client name (assuming it's in the first column)\n",
        "        patient_name = row.iloc[2]\n",
        "        if pd.isna(patient_name):\n",
        "            continue\n",
        "        if patient_name.strip() == \"\":\n",
        "            break\n",
        "\n",
        "        # Clean the patient name to use it as a sheet name\n",
        "        sheet_name = f\"{patient_name.replace('/', '_').replace(' ', '_')}\"\n",
        "\n",
        "        # Convert the single row to a DataFrame for writing it to a sheet\n",
        "        patient_df = build_sheet(row, day)\n",
        "\n",
        "        # Write the DataFrame to a new sheet in the Excel file\n",
        "        patient_df.to_excel(writer, sheet_name=sheet_name, index=False)"
      ],
      "metadata": {
        "id": "00xq3NJYiqdW"
      },
      "execution_count": 11,
      "outputs": []
    },
    {
      "cell_type": "markdown",
      "source": [
        "## **6. Adjust the formatting on the new excel file**"
      ],
      "metadata": {
        "id": "dc-dQM4XGp4x"
      }
    },
    {
      "cell_type": "code",
      "source": [
        "# Now, open the Excel file and apply formatting\n",
        "wb = load_workbook(output_excel_path)\n",
        "\n",
        "for sheet_name in wb.sheetnames:\n",
        "    ws = wb[sheet_name]\n",
        "\n",
        "    # Apply bold formatting to the second row (index 2) of each sheet\n",
        "    for cell in ws[2]:\n",
        "        cell.font = Font(bold=True, italic=True)\n",
        "    for cell in ws[3]:\n",
        "        cell.font = Font(bold=True, italic=True)\n",
        "    for cell in ws[6]:\n",
        "        cell.font = Font(bold=True, italic=True)\n",
        "    for cell in ws[7]:\n",
        "        cell.font = Font(bold=True, italic=True)\n",
        "    for cell in ws[10]:\n",
        "        cell.font = Font(bold=True, italic=True)\n",
        "    for cell in ws[11]:\n",
        "        cell.font = Font(bold=True, italic=True)\n",
        "    for cell in ws[14]:\n",
        "        cell.font = Font(bold=True, italic=True)\n",
        "    for cell in ws[15]:\n",
        "        cell.font = Font(bold=True, italic=True)\n",
        "    for cell in ws[18]:\n",
        "        cell.font = Font(bold=True, italic=True)\n",
        "    for cell in ws[19]:\n",
        "        cell.font = Font(bold=True, italic=True)\n",
        "    for cell in ws['A']:\n",
        "        cell.font = Font(bold=True)\n",
        "    # Resize the columns\n",
        "    for col in ws.columns:\n",
        "        column = col[0].column_letter  # Get the column name\n",
        "        ws.column_dimensions[column].width = 12\n",
        "\n",
        "    # Define a border with no lines (effectively removing the border)\n",
        "    no_border = Border(left=Side(border_style=None),\n",
        "                   right=Side(border_style=None),\n",
        "                   top=Side(border_style=None),\n",
        "                   bottom=Side(border_style=None))\n",
        "\n",
        "    # Remove borders from specific columns, for example, columns A and B\n",
        "    for cell in ws[1]:\n",
        "        cell.border = no_border\n",
        "\n",
        "# Save the workbook with the formatting applied\n",
        "wb.save(output_excel_path)\n",
        "\n",
        "print(f\"Created Excel file with all patient sheets: {output_excel_path}\")"
      ],
      "metadata": {
        "id": "BuWpuuCMjpuY",
        "colab": {
          "base_uri": "https://localhost:8080/"
        },
        "outputId": "f5fa9b5e-8810-4cbe-89e7-f6be357f5f87"
      },
      "execution_count": 12,
      "outputs": [
        {
          "output_type": "stream",
          "name": "stdout",
          "text": [
            "Created Excel file with all patient sheets: test.xlsx\n"
          ]
        }
      ]
    },
    {
      "cell_type": "markdown",
      "source": [
        "## **7. Copy the new file to My Drive**"
      ],
      "metadata": {
        "id": "Xo9Btl6IGtht"
      }
    },
    {
      "cell_type": "code",
      "source": [
        "# Save to Google Drive\n",
        "# Mount Google Drive\n",
        "drive.mount('/content/drive', force_remount=True)\n",
        "\n",
        "# Move the file to your Google Drive\n",
        "!cp {output_excel_path} /content/drive/My\\ Drive/"
      ],
      "metadata": {
        "id": "jzTrWL2fobKP",
        "colab": {
          "base_uri": "https://localhost:8080/"
        },
        "outputId": "bc6ce18d-f8b6-476e-e396-70c2f143caba"
      },
      "execution_count": 13,
      "outputs": [
        {
          "output_type": "stream",
          "name": "stdout",
          "text": [
            "Mounted at /content/drive\n"
          ]
        }
      ]
    }
  ]
}