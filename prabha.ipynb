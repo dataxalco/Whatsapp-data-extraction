{
 "cells": [
  {
   "cell_type": "code",
   "execution_count": 1,
   "id": "05757f94-c82a-498f-9893-8aa7ae585425",
   "metadata": {},
   "outputs": [
    {
     "name": "stdout",
     "output_type": "stream",
     "text": [
      "Excel file saved as: PrabhaWhatsApp_Chat_Formatted.xlsx\n"
     ]
    }
   ],
   "source": [
    "import re\n",
    "import pandas as pd\n",
    " \n",
    "# Load the file directly from the notebook directory\n",
    "file_name = 'prabha.txt'\n",
    "with open(file_name, 'r', encoding='utf-8') as file:\n",
    "    lines = file.readlines()\n",
    " \n",
    "# Define a regex pattern to capture WhatsApp messages\n",
    "pattern = re.compile(r'^(\\d{2}/\\d{2}/\\d{4}), (\\d{1,2}:\\d{2} (?:in the morning|in the afternoon|at night|in the evening)) - (.*?): (.*)$')\n",
    " \n",
    "# Initialize lists to store message components\n",
    "dates = []\n",
    "times = []\n",
    "senders = []\n",
    "messages = []\n",
    " \n",
    "# Process each line\n",
    "current_message = ''\n",
    "current_date = ''\n",
    "current_time = ''\n",
    "current_sender = ''\n",
    " \n",
    "for line in lines:\n",
    "    match = pattern.match(line)\n",
    "    if match:\n",
    "        if current_message:  # Save the previous message before moving to the next\n",
    "            messages.append(current_message.strip())\n",
    "            dates.append(current_date)\n",
    "            times.append(current_time)\n",
    "            senders.append(current_sender)\n",
    "        # Extract details from the new matched line\n",
    "        current_date, current_time, current_sender, current_message = match.groups()\n",
    "    else:\n",
    "        # Append to the current message if it doesn't match the initial pattern (multi-line message)\n",
    "        current_message += ' ' + line.strip()\n",
    " \n",
    "# Append the last message if it exists\n",
    "if current_message:\n",
    "    messages.append(current_message.strip())\n",
    "    dates.append(current_date)\n",
    "    times.append(current_time)\n",
    "    senders.append(current_sender)\n",
    " \n",
    "# Create a DataFrame\n",
    "df = pd.DataFrame({\n",
    "    'Date': dates,\n",
    "    'Time': times,\n",
    "    'Sender': senders,\n",
    "    'Message': messages\n",
    "})\n",
    " \n",
    "# Format Date and Time columns to be Excel-friendly\n",
    "df['Date'] = pd.to_datetime(df['Date'], format='%d/%m/%Y').dt.strftime('%Y-%m-%d')\n",
    "df['Time'] = df['Time'].apply(lambda x: x.replace('in the morning', 'AM')\n",
    "                                          .replace('in the afternoon', 'PM')\n",
    "                                          .replace('at night', 'PM')\n",
    "                                          .replace('in the evening', 'PM'))\n",
    "df['Time'] = pd.to_datetime(df['Time'], format='%I:%M %p').dt.strftime('%H:%M:%S')\n",
    " \n",
    "# Save DataFrame to Excel directly\n",
    "output_file_name = 'PrabhaWhatsApp_Chat_Formatted.xlsx'\n",
    "df.to_excel(output_file_name, index=False, engine='openpyxl')\n",
    " \n",
    "print(f\"Excel file saved as: {output_file_name}\")"
   ]
  },
  {
   "cell_type": "code",
   "execution_count": null,
   "id": "e2b22345-19fb-41ed-ab95-32f110308ca7",
   "metadata": {},
   "outputs": [],
   "source": []
  }
 ],
 "metadata": {
  "kernelspec": {
   "display_name": "Python 3 (ipykernel)",
   "language": "python",
   "name": "python3"
  },
  "language_info": {
   "codemirror_mode": {
    "name": "ipython",
    "version": 3
   },
   "file_extension": ".py",
   "mimetype": "text/x-python",
   "name": "python",
   "nbconvert_exporter": "python",
   "pygments_lexer": "ipython3",
   "version": "3.11.7"
  }
 },
 "nbformat": 4,
 "nbformat_minor": 5
}
