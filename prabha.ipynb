{
 "cells": [
  {
   "cell_type": "code",
   "execution_count": 4,
   "id": "05757f94-c82a-498f-9893-8aa7ae585425",
   "metadata": {},
   "outputs": [
    {
     "name": "stdout",
     "output_type": "stream",
     "text": [
      "CSV file saved as: chandanbala_ashna.csv\n"
     ]
    }
   ],
   "source": [
    "import re\n",
    "import csv\n",
    "from datetime import datetime\n",
    "\n",
    "# Function to parse the WhatsApp export text file\n",
    "def parse_whatsapp_chat(file_path):\n",
    "    # Regex pattern to match the date, time, name, and message\n",
    "    pattern = re.compile(r\"(\\d{1,2}/\\d{1,2}/\\d{2,4}), (\\d{1,2}:\\d{2}) - ([^:]+): (.+)\")\n",
    "    chat_data = []\n",
    "\n",
    "    with open(file_path, 'r', encoding='utf-8') as file:\n",
    "        lines = file.readlines()\n",
    "\n",
    "    for line in lines:\n",
    "        match = pattern.match(line)\n",
    "        if match:\n",
    "            date, time, name, message = match.groups()\n",
    "            # Convert the date to a valid format (YYYY-MM-DD)\n",
    "            date = datetime.strptime(date, \"%d/%m/%Y\").strftime(\"%Y-%m-%d\")\n",
    "            chat_data.append([date, time, name, message])\n",
    "        else:\n",
    "            # Handle multiline messages\n",
    "            if chat_data:\n",
    "                chat_data[-1][-1] += f\" {line.strip()}\"\n",
    "\n",
    "    return chat_data\n",
    "\n",
    "# Function to save parsed data to a CSV file\n",
    "def save_to_csv(data, output_file):\n",
    "    headers = [\"Date\", \"Time\", \"Name\", \"Message\"]\n",
    "    with open(output_file, 'w', newline='', encoding='utf-8') as file:\n",
    "        writer = csv.writer(file)\n",
    "        writer.writerow(headers)\n",
    "        writer.writerows(data)\n",
    "\n",
    "# Path to the input text file\n",
    "input_file = 'chandanbala_ashna.txt'\n",
    "\n",
    "# Path to the output CSV file\n",
    "output_file = 'chandanbala_ashna.csv'\n",
    "\n",
    "# Parse the chat file\n",
    "parsed_data = parse_whatsapp_chat(input_file)\n",
    "\n",
    "# Save the parsed data to a CSV file\n",
    "save_to_csv(parsed_data, output_file)\n",
    "\n",
    "print(f\"CSV file saved as: {output_file}\")\n",
    "\n"
   ]
  },
  {
   "cell_type": "code",
   "execution_count": null,
   "id": "e2b22345-19fb-41ed-ab95-32f110308ca7",
   "metadata": {},
   "outputs": [],
   "source": []
  }
 ],
 "metadata": {
  "kernelspec": {
   "display_name": "Python 3 (ipykernel)",
   "language": "python",
   "name": "python3"
  },
  "language_info": {
   "codemirror_mode": {
    "name": "ipython",
    "version": 3
   },
   "file_extension": ".py",
   "mimetype": "text/x-python",
   "name": "python",
   "nbconvert_exporter": "python",
   "pygments_lexer": "ipython3",
   "version": "3.11.7"
  }
 },
 "nbformat": 4,
 "nbformat_minor": 5
}
