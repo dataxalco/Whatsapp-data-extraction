{
  "nbformat": 4,
  "nbformat_minor": 0,
  "metadata": {
    "colab": {
      "provenance": [],
      "include_colab_link": true
    },
    "kernelspec": {
      "name": "python3",
      "display_name": "Python 3"
    },
    "language_info": {
      "name": "python"
    }
  },
  "cells": [
    {
      "cell_type": "markdown",
      "metadata": {
        "id": "view-in-github",
        "colab_type": "text"
      },
      "source": [
        "<a href=\"https://colab.research.google.com/github/dataxalco/Whatsapp-data-extraction/blob/main/MyLinearRegressionAnalysis.ipynb\" target=\"_parent\"><img src=\"https://colab.research.google.com/assets/colab-badge.svg\" alt=\"Open In Colab\"/></a>"
      ]
    },
    {
      "cell_type": "markdown",
      "source": [
        "# **Data Analysis with Google Colab**"
      ],
      "metadata": {
        "id": "hJA6FP0Wo4_E"
      }
    },
    {
      "cell_type": "markdown",
      "source": [
        "## **Introduction**\n",
        "\n",
        "This notebook provides a template for data analysis using Google Colab. The notebook walks through the steps of:\n",
        "1. Uploading a Google Sheet from Google Drive.\n",
        "2. Performing data cleaning.\n",
        "3. Conducting a linear regression analysis.\n",
        "\n",
        "This notebook will serve as a reference, so feel free to revisit it anytime.\n",
        "\n",
        "For this workbook we'll be using the [Movies](https://docs.google.com/spreadsheets/d/1DQ6xFmmZYCwIJZiUgD9n3Pp1xRaAE7zEkj7It1iV5eA/edit?usp=sharing) dataset."
      ],
      "metadata": {
        "id": "wVGjDUtUpWmt"
      }
    },
    {
      "cell_type": "markdown",
      "source": [
        "## **1. Uploading a Google Sheet from Google Drive**\n",
        "\n",
        "To work with data stored in Google Sheets, we need to connect our Colab environment to Google Drive."
      ],
      "metadata": {
        "id": "puUmDBibmn4w"
      }
    },
    {
      "cell_type": "markdown",
      "source": [
        "**Step 1: Authenticate and Connect to Google Drive**"
      ],
      "metadata": {
        "id": "r_lQKl3Dmwxi"
      }
    },
    {
      "cell_type": "code",
      "execution_count": null,
      "metadata": {
        "id": "if7T3MvDl4mL"
      },
      "outputs": [],
      "source": [
        "from google.colab import auth\n",
        "from google.auth import default\n",
        "import gspread\n",
        "import pandas as pd\n",
        "import numpy as np\n",
        "\n",
        "# Authenticate and create the PyDrive client\n",
        "auth.authenticate_user()\n",
        "\n",
        "# Connect to Google Sheets\n",
        "gc = gspread.authorize(default()[0])"
      ]
    },
    {
      "cell_type": "markdown",
      "source": [
        "**Step 2: Load Data from a Google Sheet**\n",
        "\n",
        "1.\tGo to your Google Sheet, and in the URL, find the sheet_id:\n",
        "\n",
        "  *   Example URL: https://docs.google.com/spreadsheets/d/your_sheet_id/edit#gid=0\n",
        "\n",
        "  *   The sheet_id is the part that comes after /d/ and before /edit.\n",
        "2.\tReplace 'your_sheet_id' in the code below with your actual sheet ID."
      ],
      "metadata": {
        "id": "hDMb5TAcm5yH"
      }
    },
    {
      "cell_type": "code",
      "source": [
        "# Replace 'your_sheet_id' with your actual Google Sheet ID\n",
        "sheet_id = '1DQ6xFmmZYCwIJZiUgD9n3Pp1xRaAE7zEkj7It1iV5eA'\n",
        "sheet = gc.open_by_key(sheet_id)\n",
        "\n",
        "# Select the first sheet (worksheet) in the Google Sheet\n",
        "worksheet = sheet.get_worksheet(0)\n",
        "\n",
        "# Convert the worksheet to a pandas DataFrame\n",
        "data = pd.DataFrame(worksheet.get_all_records())"
      ],
      "metadata": {
        "id": "ufs3UW_jnj8p"
      },
      "execution_count": null,
      "outputs": []
    },
    {
      "cell_type": "markdown",
      "source": [
        "## **2. Data Cleaning**\n",
        "\n",
        "Once the data is loaded into a DataFrame, we can clean it. This involves handling missing values, removing duplicates, and ensuring data types are correct."
      ],
      "metadata": {
        "id": "JtjrXL6dnvay"
      }
    },
    {
      "cell_type": "markdown",
      "source": [
        "**Step 1: Overview of the Data**"
      ],
      "metadata": {
        "id": "HBGOeZ-Jnxmq"
      }
    },
    {
      "cell_type": "code",
      "source": [
        "# Display the first few rows of the DataFrame\n",
        "data.head()"
      ],
      "metadata": {
        "colab": {
          "base_uri": "https://localhost:8080/",
          "height": 226
        },
        "id": "nhJ0OrQJn0U3",
        "outputId": "736400d0-88d4-4e8f-8ac8-4ca3a5cf368a"
      },
      "execution_count": null,
      "outputs": [
        {
          "output_type": "execute_result",
          "data": {
            "text/plain": [
              "   Duration  DirectorFacebookLikes  CastTotalFacebookLikes Rating  \\\n",
              "0       123                    126                   25661  PG-13   \n",
              "1       128                    241                   16911  PG-13   \n",
              "2       158                    776                    2144  PG-13   \n",
              "3       102                     23                    7009  PG-13   \n",
              "4       109                     97                   19968      R   \n",
              "\n",
              "        Budget  Year  Drama  Comedy  Romance  Action  Adventure  Mystery  \\\n",
              "0   35000000.0  2008      1       0        0       0          0        0   \n",
              "1   40000000.0  2013      1       0        0       0          0        0   \n",
              "2  200000000.0  2009      0       0        0       1          1        0   \n",
              "3   20000000.0  2009      1       1        1       0          0        0   \n",
              "4   42000000.0  2012      0       1        0       1          0        0   \n",
              "\n",
              "   Fantasy  Crime  SciFi  Thriller  Family  AvgDirectorScore  AvgActorScore  \\\n",
              "0        0      1      0         1       0              5.77           7.34   \n",
              "1        0      0      0         0       0              6.37           7.02   \n",
              "2        0      0      1         0       0              6.80           6.51   \n",
              "3        1      0      0         0       1              7.00           6.28   \n",
              "4        0      1      0         0       0              7.00           6.01   \n",
              "\n",
              "   IMDbScore  \n",
              "0        6.8  \n",
              "1        7.5  \n",
              "2        5.8  \n",
              "3        6.4  \n",
              "4        7.2  "
            ],
            "text/html": [
              "\n",
              "  <div id=\"df-cb71a52f-d110-4393-bf75-a3ac71211d4b\" class=\"colab-df-container\">\n",
              "    <div>\n",
              "<style scoped>\n",
              "    .dataframe tbody tr th:only-of-type {\n",
              "        vertical-align: middle;\n",
              "    }\n",
              "\n",
              "    .dataframe tbody tr th {\n",
              "        vertical-align: top;\n",
              "    }\n",
              "\n",
              "    .dataframe thead th {\n",
              "        text-align: right;\n",
              "    }\n",
              "</style>\n",
              "<table border=\"1\" class=\"dataframe\">\n",
              "  <thead>\n",
              "    <tr style=\"text-align: right;\">\n",
              "      <th></th>\n",
              "      <th>Duration</th>\n",
              "      <th>DirectorFacebookLikes</th>\n",
              "      <th>CastTotalFacebookLikes</th>\n",
              "      <th>Rating</th>\n",
              "      <th>Budget</th>\n",
              "      <th>Year</th>\n",
              "      <th>Drama</th>\n",
              "      <th>Comedy</th>\n",
              "      <th>Romance</th>\n",
              "      <th>Action</th>\n",
              "      <th>Adventure</th>\n",
              "      <th>Mystery</th>\n",
              "      <th>Fantasy</th>\n",
              "      <th>Crime</th>\n",
              "      <th>SciFi</th>\n",
              "      <th>Thriller</th>\n",
              "      <th>Family</th>\n",
              "      <th>AvgDirectorScore</th>\n",
              "      <th>AvgActorScore</th>\n",
              "      <th>IMDbScore</th>\n",
              "    </tr>\n",
              "  </thead>\n",
              "  <tbody>\n",
              "    <tr>\n",
              "      <th>0</th>\n",
              "      <td>123</td>\n",
              "      <td>126</td>\n",
              "      <td>25661</td>\n",
              "      <td>PG-13</td>\n",
              "      <td>35000000.0</td>\n",
              "      <td>2008</td>\n",
              "      <td>1</td>\n",
              "      <td>0</td>\n",
              "      <td>0</td>\n",
              "      <td>0</td>\n",
              "      <td>0</td>\n",
              "      <td>0</td>\n",
              "      <td>0</td>\n",
              "      <td>1</td>\n",
              "      <td>0</td>\n",
              "      <td>1</td>\n",
              "      <td>0</td>\n",
              "      <td>5.77</td>\n",
              "      <td>7.34</td>\n",
              "      <td>6.8</td>\n",
              "    </tr>\n",
              "    <tr>\n",
              "      <th>1</th>\n",
              "      <td>128</td>\n",
              "      <td>241</td>\n",
              "      <td>16911</td>\n",
              "      <td>PG-13</td>\n",
              "      <td>40000000.0</td>\n",
              "      <td>2013</td>\n",
              "      <td>1</td>\n",
              "      <td>0</td>\n",
              "      <td>0</td>\n",
              "      <td>0</td>\n",
              "      <td>0</td>\n",
              "      <td>0</td>\n",
              "      <td>0</td>\n",
              "      <td>0</td>\n",
              "      <td>0</td>\n",
              "      <td>0</td>\n",
              "      <td>0</td>\n",
              "      <td>6.37</td>\n",
              "      <td>7.02</td>\n",
              "      <td>7.5</td>\n",
              "    </tr>\n",
              "    <tr>\n",
              "      <th>2</th>\n",
              "      <td>158</td>\n",
              "      <td>776</td>\n",
              "      <td>2144</td>\n",
              "      <td>PG-13</td>\n",
              "      <td>200000000.0</td>\n",
              "      <td>2009</td>\n",
              "      <td>0</td>\n",
              "      <td>0</td>\n",
              "      <td>0</td>\n",
              "      <td>1</td>\n",
              "      <td>1</td>\n",
              "      <td>0</td>\n",
              "      <td>0</td>\n",
              "      <td>0</td>\n",
              "      <td>1</td>\n",
              "      <td>0</td>\n",
              "      <td>0</td>\n",
              "      <td>6.80</td>\n",
              "      <td>6.51</td>\n",
              "      <td>5.8</td>\n",
              "    </tr>\n",
              "    <tr>\n",
              "      <th>3</th>\n",
              "      <td>102</td>\n",
              "      <td>23</td>\n",
              "      <td>7009</td>\n",
              "      <td>PG-13</td>\n",
              "      <td>20000000.0</td>\n",
              "      <td>2009</td>\n",
              "      <td>1</td>\n",
              "      <td>1</td>\n",
              "      <td>1</td>\n",
              "      <td>0</td>\n",
              "      <td>0</td>\n",
              "      <td>0</td>\n",
              "      <td>1</td>\n",
              "      <td>0</td>\n",
              "      <td>0</td>\n",
              "      <td>0</td>\n",
              "      <td>1</td>\n",
              "      <td>7.00</td>\n",
              "      <td>6.28</td>\n",
              "      <td>6.4</td>\n",
              "    </tr>\n",
              "    <tr>\n",
              "      <th>4</th>\n",
              "      <td>109</td>\n",
              "      <td>97</td>\n",
              "      <td>19968</td>\n",
              "      <td>R</td>\n",
              "      <td>42000000.0</td>\n",
              "      <td>2012</td>\n",
              "      <td>0</td>\n",
              "      <td>1</td>\n",
              "      <td>0</td>\n",
              "      <td>1</td>\n",
              "      <td>0</td>\n",
              "      <td>0</td>\n",
              "      <td>0</td>\n",
              "      <td>1</td>\n",
              "      <td>0</td>\n",
              "      <td>0</td>\n",
              "      <td>0</td>\n",
              "      <td>7.00</td>\n",
              "      <td>6.01</td>\n",
              "      <td>7.2</td>\n",
              "    </tr>\n",
              "  </tbody>\n",
              "</table>\n",
              "</div>\n",
              "    <div class=\"colab-df-buttons\">\n",
              "\n",
              "  <div class=\"colab-df-container\">\n",
              "    <button class=\"colab-df-convert\" onclick=\"convertToInteractive('df-cb71a52f-d110-4393-bf75-a3ac71211d4b')\"\n",
              "            title=\"Convert this dataframe to an interactive table.\"\n",
              "            style=\"display:none;\">\n",
              "\n",
              "  <svg xmlns=\"http://www.w3.org/2000/svg\" height=\"24px\" viewBox=\"0 -960 960 960\">\n",
              "    <path d=\"M120-120v-720h720v720H120Zm60-500h600v-160H180v160Zm220 220h160v-160H400v160Zm0 220h160v-160H400v160ZM180-400h160v-160H180v160Zm440 0h160v-160H620v160ZM180-180h160v-160H180v160Zm440 0h160v-160H620v160Z\"/>\n",
              "  </svg>\n",
              "    </button>\n",
              "\n",
              "  <style>\n",
              "    .colab-df-container {\n",
              "      display:flex;\n",
              "      gap: 12px;\n",
              "    }\n",
              "\n",
              "    .colab-df-convert {\n",
              "      background-color: #E8F0FE;\n",
              "      border: none;\n",
              "      border-radius: 50%;\n",
              "      cursor: pointer;\n",
              "      display: none;\n",
              "      fill: #1967D2;\n",
              "      height: 32px;\n",
              "      padding: 0 0 0 0;\n",
              "      width: 32px;\n",
              "    }\n",
              "\n",
              "    .colab-df-convert:hover {\n",
              "      background-color: #E2EBFA;\n",
              "      box-shadow: 0px 1px 2px rgba(60, 64, 67, 0.3), 0px 1px 3px 1px rgba(60, 64, 67, 0.15);\n",
              "      fill: #174EA6;\n",
              "    }\n",
              "\n",
              "    .colab-df-buttons div {\n",
              "      margin-bottom: 4px;\n",
              "    }\n",
              "\n",
              "    [theme=dark] .colab-df-convert {\n",
              "      background-color: #3B4455;\n",
              "      fill: #D2E3FC;\n",
              "    }\n",
              "\n",
              "    [theme=dark] .colab-df-convert:hover {\n",
              "      background-color: #434B5C;\n",
              "      box-shadow: 0px 1px 3px 1px rgba(0, 0, 0, 0.15);\n",
              "      filter: drop-shadow(0px 1px 2px rgba(0, 0, 0, 0.3));\n",
              "      fill: #FFFFFF;\n",
              "    }\n",
              "  </style>\n",
              "\n",
              "    <script>\n",
              "      const buttonEl =\n",
              "        document.querySelector('#df-cb71a52f-d110-4393-bf75-a3ac71211d4b button.colab-df-convert');\n",
              "      buttonEl.style.display =\n",
              "        google.colab.kernel.accessAllowed ? 'block' : 'none';\n",
              "\n",
              "      async function convertToInteractive(key) {\n",
              "        const element = document.querySelector('#df-cb71a52f-d110-4393-bf75-a3ac71211d4b');\n",
              "        const dataTable =\n",
              "          await google.colab.kernel.invokeFunction('convertToInteractive',\n",
              "                                                    [key], {});\n",
              "        if (!dataTable) return;\n",
              "\n",
              "        const docLinkHtml = 'Like what you see? Visit the ' +\n",
              "          '<a target=\"_blank\" href=https://colab.research.google.com/notebooks/data_table.ipynb>data table notebook</a>'\n",
              "          + ' to learn more about interactive tables.';\n",
              "        element.innerHTML = '';\n",
              "        dataTable['output_type'] = 'display_data';\n",
              "        await google.colab.output.renderOutput(dataTable, element);\n",
              "        const docLink = document.createElement('div');\n",
              "        docLink.innerHTML = docLinkHtml;\n",
              "        element.appendChild(docLink);\n",
              "      }\n",
              "    </script>\n",
              "  </div>\n",
              "\n",
              "\n",
              "<div id=\"df-31d617ab-c81f-4d34-8ca3-2ec71f6aa1eb\">\n",
              "  <button class=\"colab-df-quickchart\" onclick=\"quickchart('df-31d617ab-c81f-4d34-8ca3-2ec71f6aa1eb')\"\n",
              "            title=\"Suggest charts\"\n",
              "            style=\"display:none;\">\n",
              "\n",
              "<svg xmlns=\"http://www.w3.org/2000/svg\" height=\"24px\"viewBox=\"0 0 24 24\"\n",
              "     width=\"24px\">\n",
              "    <g>\n",
              "        <path d=\"M19 3H5c-1.1 0-2 .9-2 2v14c0 1.1.9 2 2 2h14c1.1 0 2-.9 2-2V5c0-1.1-.9-2-2-2zM9 17H7v-7h2v7zm4 0h-2V7h2v10zm4 0h-2v-4h2v4z\"/>\n",
              "    </g>\n",
              "</svg>\n",
              "  </button>\n",
              "\n",
              "<style>\n",
              "  .colab-df-quickchart {\n",
              "      --bg-color: #E8F0FE;\n",
              "      --fill-color: #1967D2;\n",
              "      --hover-bg-color: #E2EBFA;\n",
              "      --hover-fill-color: #174EA6;\n",
              "      --disabled-fill-color: #AAA;\n",
              "      --disabled-bg-color: #DDD;\n",
              "  }\n",
              "\n",
              "  [theme=dark] .colab-df-quickchart {\n",
              "      --bg-color: #3B4455;\n",
              "      --fill-color: #D2E3FC;\n",
              "      --hover-bg-color: #434B5C;\n",
              "      --hover-fill-color: #FFFFFF;\n",
              "      --disabled-bg-color: #3B4455;\n",
              "      --disabled-fill-color: #666;\n",
              "  }\n",
              "\n",
              "  .colab-df-quickchart {\n",
              "    background-color: var(--bg-color);\n",
              "    border: none;\n",
              "    border-radius: 50%;\n",
              "    cursor: pointer;\n",
              "    display: none;\n",
              "    fill: var(--fill-color);\n",
              "    height: 32px;\n",
              "    padding: 0;\n",
              "    width: 32px;\n",
              "  }\n",
              "\n",
              "  .colab-df-quickchart:hover {\n",
              "    background-color: var(--hover-bg-color);\n",
              "    box-shadow: 0 1px 2px rgba(60, 64, 67, 0.3), 0 1px 3px 1px rgba(60, 64, 67, 0.15);\n",
              "    fill: var(--button-hover-fill-color);\n",
              "  }\n",
              "\n",
              "  .colab-df-quickchart-complete:disabled,\n",
              "  .colab-df-quickchart-complete:disabled:hover {\n",
              "    background-color: var(--disabled-bg-color);\n",
              "    fill: var(--disabled-fill-color);\n",
              "    box-shadow: none;\n",
              "  }\n",
              "\n",
              "  .colab-df-spinner {\n",
              "    border: 2px solid var(--fill-color);\n",
              "    border-color: transparent;\n",
              "    border-bottom-color: var(--fill-color);\n",
              "    animation:\n",
              "      spin 1s steps(1) infinite;\n",
              "  }\n",
              "\n",
              "  @keyframes spin {\n",
              "    0% {\n",
              "      border-color: transparent;\n",
              "      border-bottom-color: var(--fill-color);\n",
              "      border-left-color: var(--fill-color);\n",
              "    }\n",
              "    20% {\n",
              "      border-color: transparent;\n",
              "      border-left-color: var(--fill-color);\n",
              "      border-top-color: var(--fill-color);\n",
              "    }\n",
              "    30% {\n",
              "      border-color: transparent;\n",
              "      border-left-color: var(--fill-color);\n",
              "      border-top-color: var(--fill-color);\n",
              "      border-right-color: var(--fill-color);\n",
              "    }\n",
              "    40% {\n",
              "      border-color: transparent;\n",
              "      border-right-color: var(--fill-color);\n",
              "      border-top-color: var(--fill-color);\n",
              "    }\n",
              "    60% {\n",
              "      border-color: transparent;\n",
              "      border-right-color: var(--fill-color);\n",
              "    }\n",
              "    80% {\n",
              "      border-color: transparent;\n",
              "      border-right-color: var(--fill-color);\n",
              "      border-bottom-color: var(--fill-color);\n",
              "    }\n",
              "    90% {\n",
              "      border-color: transparent;\n",
              "      border-bottom-color: var(--fill-color);\n",
              "    }\n",
              "  }\n",
              "</style>\n",
              "\n",
              "  <script>\n",
              "    async function quickchart(key) {\n",
              "      const quickchartButtonEl =\n",
              "        document.querySelector('#' + key + ' button');\n",
              "      quickchartButtonEl.disabled = true;  // To prevent multiple clicks.\n",
              "      quickchartButtonEl.classList.add('colab-df-spinner');\n",
              "      try {\n",
              "        const charts = await google.colab.kernel.invokeFunction(\n",
              "            'suggestCharts', [key], {});\n",
              "      } catch (error) {\n",
              "        console.error('Error during call to suggestCharts:', error);\n",
              "      }\n",
              "      quickchartButtonEl.classList.remove('colab-df-spinner');\n",
              "      quickchartButtonEl.classList.add('colab-df-quickchart-complete');\n",
              "    }\n",
              "    (() => {\n",
              "      let quickchartButtonEl =\n",
              "        document.querySelector('#df-31d617ab-c81f-4d34-8ca3-2ec71f6aa1eb button');\n",
              "      quickchartButtonEl.style.display =\n",
              "        google.colab.kernel.accessAllowed ? 'block' : 'none';\n",
              "    })();\n",
              "  </script>\n",
              "</div>\n",
              "\n",
              "    </div>\n",
              "  </div>\n"
            ],
            "application/vnd.google.colaboratory.intrinsic+json": {
              "type": "dataframe",
              "variable_name": "data",
              "summary": "{\n  \"name\": \"data\",\n  \"rows\": 318,\n  \"fields\": [\n    {\n      \"column\": \"Duration\",\n      \"properties\": {\n        \"dtype\": \"number\",\n        \"std\": 16,\n        \"min\": 101,\n        \"max\": 240,\n        \"num_unique_values\": 60,\n        \"samples\": [\n          123,\n          112,\n          114\n        ],\n        \"semantic_type\": \"\",\n        \"description\": \"\"\n      }\n    },\n    {\n      \"column\": \"DirectorFacebookLikes\",\n      \"properties\": {\n        \"dtype\": \"number\",\n        \"std\": 5184,\n        \"min\": 11,\n        \"max\": 22000,\n        \"num_unique_values\": 156,\n        \"samples\": [\n          395,\n          295,\n          252\n        ],\n        \"semantic_type\": \"\",\n        \"description\": \"\"\n      }\n    },\n    {\n      \"column\": \"CastTotalFacebookLikes\",\n      \"properties\": {\n        \"dtype\": \"number\",\n        \"std\": 19661,\n        \"min\": 389,\n        \"max\": 106759,\n        \"num_unique_values\": 317,\n        \"samples\": [\n          4585,\n          20881,\n          26679\n        ],\n        \"semantic_type\": \"\",\n        \"description\": \"\"\n      }\n    },\n    {\n      \"column\": \"Rating\",\n      \"properties\": {\n        \"dtype\": \"category\",\n        \"num_unique_values\": 4,\n        \"samples\": [\n          \"R\",\n          \"G\",\n          \"PG-13\"\n        ],\n        \"semantic_type\": \"\",\n        \"description\": \"\"\n      }\n    },\n    {\n      \"column\": \"Budget\",\n      \"properties\": {\n        \"dtype\": \"number\",\n        \"std\": 57329183.33440633,\n        \"min\": 20000000.0,\n        \"max\": 300000000.0,\n        \"num_unique_values\": 72,\n        \"samples\": [\n          42000000.0,\n          73000000.0,\n          209000000.0\n        ],\n        \"semantic_type\": \"\",\n        \"description\": \"\"\n      }\n    },\n    {\n      \"column\": \"Year\",\n      \"properties\": {\n        \"dtype\": \"number\",\n        \"std\": 2,\n        \"min\": 2006,\n        \"max\": 2016,\n        \"num_unique_values\": 11,\n        \"samples\": [\n          2007,\n          2008,\n          2011\n        ],\n        \"semantic_type\": \"\",\n        \"description\": \"\"\n      }\n    },\n    {\n      \"column\": \"Drama\",\n      \"properties\": {\n        \"dtype\": \"number\",\n        \"std\": 0,\n        \"min\": 0,\n        \"max\": 1,\n        \"num_unique_values\": 2,\n        \"samples\": [\n          0,\n          1\n        ],\n        \"semantic_type\": \"\",\n        \"description\": \"\"\n      }\n    },\n    {\n      \"column\": \"Comedy\",\n      \"properties\": {\n        \"dtype\": \"number\",\n        \"std\": 0,\n        \"min\": 0,\n        \"max\": 1,\n        \"num_unique_values\": 2,\n        \"samples\": [\n          1,\n          0\n        ],\n        \"semantic_type\": \"\",\n        \"description\": \"\"\n      }\n    },\n    {\n      \"column\": \"Romance\",\n      \"properties\": {\n        \"dtype\": \"number\",\n        \"std\": 0,\n        \"min\": 0,\n        \"max\": 1,\n        \"num_unique_values\": 2,\n        \"samples\": [\n          1,\n          0\n        ],\n        \"semantic_type\": \"\",\n        \"description\": \"\"\n      }\n    },\n    {\n      \"column\": \"Action\",\n      \"properties\": {\n        \"dtype\": \"number\",\n        \"std\": 0,\n        \"min\": 0,\n        \"max\": 1,\n        \"num_unique_values\": 2,\n        \"samples\": [\n          1,\n          0\n        ],\n        \"semantic_type\": \"\",\n        \"description\": \"\"\n      }\n    },\n    {\n      \"column\": \"Adventure\",\n      \"properties\": {\n        \"dtype\": \"number\",\n        \"std\": 0,\n        \"min\": 0,\n        \"max\": 1,\n        \"num_unique_values\": 2,\n        \"samples\": [\n          1,\n          0\n        ],\n        \"semantic_type\": \"\",\n        \"description\": \"\"\n      }\n    },\n    {\n      \"column\": \"Mystery\",\n      \"properties\": {\n        \"dtype\": \"number\",\n        \"std\": 0,\n        \"min\": 0,\n        \"max\": 1,\n        \"num_unique_values\": 2,\n        \"samples\": [\n          1,\n          0\n        ],\n        \"semantic_type\": \"\",\n        \"description\": \"\"\n      }\n    },\n    {\n      \"column\": \"Fantasy\",\n      \"properties\": {\n        \"dtype\": \"number\",\n        \"std\": 0,\n        \"min\": 0,\n        \"max\": 1,\n        \"num_unique_values\": 2,\n        \"samples\": [\n          1,\n          0\n        ],\n        \"semantic_type\": \"\",\n        \"description\": \"\"\n      }\n    },\n    {\n      \"column\": \"Crime\",\n      \"properties\": {\n        \"dtype\": \"number\",\n        \"std\": 0,\n        \"min\": 0,\n        \"max\": 1,\n        \"num_unique_values\": 2,\n        \"samples\": [\n          0,\n          1\n        ],\n        \"semantic_type\": \"\",\n        \"description\": \"\"\n      }\n    },\n    {\n      \"column\": \"SciFi\",\n      \"properties\": {\n        \"dtype\": \"number\",\n        \"std\": 0,\n        \"min\": 0,\n        \"max\": 1,\n        \"num_unique_values\": 2,\n        \"samples\": [\n          1,\n          0\n        ],\n        \"semantic_type\": \"\",\n        \"description\": \"\"\n      }\n    },\n    {\n      \"column\": \"Thriller\",\n      \"properties\": {\n        \"dtype\": \"number\",\n        \"std\": 0,\n        \"min\": 0,\n        \"max\": 1,\n        \"num_unique_values\": 2,\n        \"samples\": [\n          0,\n          1\n        ],\n        \"semantic_type\": \"\",\n        \"description\": \"\"\n      }\n    },\n    {\n      \"column\": \"Family\",\n      \"properties\": {\n        \"dtype\": \"number\",\n        \"std\": 0,\n        \"min\": 0,\n        \"max\": 1,\n        \"num_unique_values\": 2,\n        \"samples\": [\n          1,\n          0\n        ],\n        \"semantic_type\": \"\",\n        \"description\": \"\"\n      }\n    },\n    {\n      \"column\": \"AvgDirectorScore\",\n      \"properties\": {\n        \"dtype\": \"number\",\n        \"std\": 0.6721102812964487,\n        \"min\": 4.3,\n        \"max\": 8.5,\n        \"num_unique_values\": 135,\n        \"samples\": [\n          6.86,\n          5.6\n        ],\n        \"semantic_type\": \"\",\n        \"description\": \"\"\n      }\n    },\n    {\n      \"column\": \"AvgActorScore\",\n      \"properties\": {\n        \"dtype\": \"number\",\n        \"std\": 0.36793692084859897,\n        \"min\": 5.17,\n        \"max\": 7.42,\n        \"num_unique_values\": 133,\n        \"samples\": [\n          6.43,\n          6.3\n        ],\n        \"semantic_type\": \"\",\n        \"description\": \"\"\n      }\n    },\n    {\n      \"column\": \"IMDbScore\",\n      \"properties\": {\n        \"dtype\": \"number\",\n        \"std\": 0.8283585014210784,\n        \"min\": 4.1,\n        \"max\": 9.0,\n        \"num_unique_values\": 43,\n        \"samples\": [\n          8.0,\n          7.9\n        ],\n        \"semantic_type\": \"\",\n        \"description\": \"\"\n      }\n    }\n  ]\n}"
            }
          },
          "metadata": {},
          "execution_count": 46
        }
      ]
    },
    {
      "cell_type": "code",
      "source": [
        "# Display summary information about the DataFrame\n",
        "data.info()"
      ],
      "metadata": {
        "colab": {
          "base_uri": "https://localhost:8080/"
        },
        "id": "tPFtYVbSr6FH",
        "outputId": "cb3f7cb1-b6cc-4472-de01-d57340daa32a"
      },
      "execution_count": null,
      "outputs": [
        {
          "output_type": "stream",
          "name": "stdout",
          "text": [
            "<class 'pandas.core.frame.DataFrame'>\n",
            "RangeIndex: 318 entries, 0 to 317\n",
            "Data columns (total 20 columns):\n",
            " #   Column                  Non-Null Count  Dtype  \n",
            "---  ------                  --------------  -----  \n",
            " 0   Duration                318 non-null    int64  \n",
            " 1   DirectorFacebookLikes   318 non-null    int64  \n",
            " 2   CastTotalFacebookLikes  318 non-null    int64  \n",
            " 3   Rating                  318 non-null    object \n",
            " 4   Budget                  318 non-null    float64\n",
            " 5   Year                    318 non-null    int64  \n",
            " 6   Drama                   318 non-null    int64  \n",
            " 7   Comedy                  318 non-null    int64  \n",
            " 8   Romance                 318 non-null    int64  \n",
            " 9   Action                  318 non-null    int64  \n",
            " 10  Adventure               318 non-null    int64  \n",
            " 11  Mystery                 318 non-null    int64  \n",
            " 12  Fantasy                 318 non-null    int64  \n",
            " 13  Crime                   318 non-null    int64  \n",
            " 14  SciFi                   318 non-null    int64  \n",
            " 15  Thriller                318 non-null    int64  \n",
            " 16  Family                  318 non-null    int64  \n",
            " 17  AvgDirectorScore        318 non-null    float64\n",
            " 18  AvgActorScore           318 non-null    float64\n",
            " 19  IMDbScore               318 non-null    float64\n",
            "dtypes: float64(4), int64(15), object(1)\n",
            "memory usage: 49.8+ KB\n"
          ]
        }
      ]
    },
    {
      "cell_type": "markdown",
      "source": [
        "**Step 2: Handling Missing Values**"
      ],
      "metadata": {
        "id": "XPHDFUrnn0y0"
      }
    },
    {
      "cell_type": "code",
      "source": [
        "# Check for missing values\n",
        "missing_values = data.isnull().sum()\n",
        "print(\"Missing values in each column:\\n\", missing_values)\n",
        "\n",
        "# Check for empty values\n",
        "empty_strings = (data == '').sum()\n",
        "print(\"Empty strings in each column:\\n\", empty_strings)\n",
        "data.replace('', np.nan, inplace=True)\n",
        "\n",
        "# Option 1: Drop rows with missing values\n",
        "data_cleaned = data.dropna()\n",
        "\n",
        "# Option 2: Fill missing values with a default value (e.g., the mean)\n",
        "# data_cleaned = data.fillna(data.mean())"
      ],
      "metadata": {
        "colab": {
          "base_uri": "https://localhost:8080/"
        },
        "id": "MOTOWGpFn3Ci",
        "outputId": "1c0c0698-83e3-4772-accd-2cfc80a91c16"
      },
      "execution_count": null,
      "outputs": [
        {
          "output_type": "stream",
          "name": "stdout",
          "text": [
            "Missing values in each column:\n",
            " Duration                  0\n",
            "DirectorFacebookLikes     0\n",
            "CastTotalFacebookLikes    0\n",
            "Rating                    0\n",
            "Budget                    0\n",
            "Year                      0\n",
            "Drama                     0\n",
            "Comedy                    0\n",
            "Romance                   0\n",
            "Action                    0\n",
            "Adventure                 0\n",
            "Mystery                   0\n",
            "Fantasy                   0\n",
            "Crime                     0\n",
            "SciFi                     0\n",
            "Thriller                  0\n",
            "Family                    0\n",
            "AvgDirectorScore          0\n",
            "AvgActorScore             0\n",
            "IMDbScore                 0\n",
            "dtype: int64\n",
            "Empty strings in each column:\n",
            " Duration                  0\n",
            "DirectorFacebookLikes     0\n",
            "CastTotalFacebookLikes    0\n",
            "Rating                    0\n",
            "Budget                    0\n",
            "Year                      0\n",
            "Drama                     0\n",
            "Comedy                    0\n",
            "Romance                   0\n",
            "Action                    0\n",
            "Adventure                 0\n",
            "Mystery                   0\n",
            "Fantasy                   0\n",
            "Crime                     0\n",
            "SciFi                     0\n",
            "Thriller                  0\n",
            "Family                    0\n",
            "AvgDirectorScore          0\n",
            "AvgActorScore             0\n",
            "IMDbScore                 0\n",
            "dtype: int64\n"
          ]
        }
      ]
    },
    {
      "cell_type": "markdown",
      "source": [
        "**Step 3: Removing Duplicates**"
      ],
      "metadata": {
        "id": "OXKLknPun7N_"
      }
    },
    {
      "cell_type": "code",
      "source": [
        "# Remove duplicate rows\n",
        "data_cleaned = data_cleaned.drop_duplicates()\n",
        "\n",
        "# Confirm that duplicates have been removed\n",
        "print(f\"Number of duplicate rows: {data_cleaned.duplicated().sum()}\")"
      ],
      "metadata": {
        "colab": {
          "base_uri": "https://localhost:8080/"
        },
        "id": "AV_X0d94n8sD",
        "outputId": "50f11ebf-c2a5-4dc7-9014-75f9fdb6ba5f"
      },
      "execution_count": null,
      "outputs": [
        {
          "output_type": "stream",
          "name": "stdout",
          "text": [
            "Number of duplicate rows: 0\n"
          ]
        }
      ]
    },
    {
      "cell_type": "markdown",
      "source": [
        "**Step 4: Data Type Conversion (if needed)**"
      ],
      "metadata": {
        "id": "UIVXOJSUn-iR"
      }
    },
    {
      "cell_type": "code",
      "source": [
        "# Convert columns to appropriate data types\n",
        "# Example: data_cleaned['column_name'] = data_cleaned['column_name'].astype(int)"
      ],
      "metadata": {
        "id": "yuchmUU6oBZW"
      },
      "execution_count": null,
      "outputs": []
    },
    {
      "cell_type": "markdown",
      "source": [
        "## **3. Linear Regression Analysis**\n",
        "\n",
        "Now that the data is cleaned, we can perform a linear regression analysis."
      ],
      "metadata": {
        "id": "YMNvFl62oGIx"
      }
    },
    {
      "cell_type": "markdown",
      "source": [
        "**Step 1: Select Features and Target Variable**"
      ],
      "metadata": {
        "id": "7NUNWfspoHo2"
      }
    },
    {
      "cell_type": "code",
      "source": [
        "# Assuming 'X' is the feature and 'y' is the target variable. This means we want\n",
        "# to see how much X predicts y.\n",
        "X = data_cleaned[['Budget']]\n",
        "y = data_cleaned['IMDbScore']"
      ],
      "metadata": {
        "id": "e305etYroPQ5"
      },
      "execution_count": null,
      "outputs": []
    },
    {
      "cell_type": "markdown",
      "source": [
        "**Step 2: Split Data into Training and Testing Sets**"
      ],
      "metadata": {
        "id": "NYRGtc1YoQ64"
      }
    },
    {
      "cell_type": "code",
      "source": [
        "from sklearn.model_selection import train_test_split\n",
        "\n",
        "X_train, X_test, y_train, y_test = train_test_split(X, y, test_size=0.2, random_state=42)"
      ],
      "metadata": {
        "id": "lDJ0gpbqoUHz"
      },
      "execution_count": null,
      "outputs": []
    },
    {
      "cell_type": "markdown",
      "source": [
        "**Step 3: Perform Linear Regression**"
      ],
      "metadata": {
        "id": "le7YlWuioTVV"
      }
    },
    {
      "cell_type": "code",
      "source": [
        "from sklearn.linear_model import LinearRegression\n",
        "\n",
        "# Create a linear regression model\n",
        "model = LinearRegression()\n",
        "\n",
        "# Train the model on the training data\n",
        "model.fit(X_train, y_train)\n",
        "\n",
        "# Make predictions on the testing data\n",
        "y_pred = model.predict(X_test)"
      ],
      "metadata": {
        "id": "J0rm3zTpoYVH"
      },
      "execution_count": null,
      "outputs": []
    },
    {
      "cell_type": "markdown",
      "source": [
        "**Step 4: Evaluate the Model**\n",
        "\n",
        "Below are explanations for **R-squared** and **Mean Squared Error (MSE)**.\n",
        "\n",
        "#### **R-squared (R²)**\n",
        "\n",
        "**What is R-squared?**\n",
        "R-squared, also known as the coefficient of determination, is a statistical measure that represents the proportion of the variance in the dependent (target) variable that is predictable from the independent (predictor) variables. In simpler terms, it tells you how well your model explains the variability of the target variable based on the input features.\n",
        "\n",
        "**How to Interpret R-squared?**\n",
        "- **R-squared = 1**: The model perfectly explains all the variability of the target variable. This is the ideal scenario, but it's rare in practice.\n",
        "- **R-squared = 0**: The model does not explain any of the variability of the target variable. This means the model fails to capture the relationship between the predictors and the target.\n",
        "- **R-squared between 0 and 1**: The model explains a certain percentage of the variability. For example, an R-squared of 0.75 means that 75% of the variability in the target variable can be explained by the model, while the remaining 25% is unexplained.\n",
        "\n",
        "**Why is R-squared Important?**\n",
        "R-squared gives you an idea of the goodness of fit of your model. A higher R-squared value generally indicates a better fit, but it’s important to note that a very high R-squared might also suggest overfitting, especially in complex models.\n",
        "\n",
        "---\n",
        "\n",
        "#### **Mean Squared Error (MSE)**\n",
        "\n",
        "**What is Mean Squared Error?**\n",
        "Mean Squared Error (MSE) is a measure of the average squared difference between the actual values and the values predicted by your model. It calculates the error by taking the difference between each actual and predicted value, squaring it, and then averaging these squared differences.\n",
        "\n",
        "**How to Interpret MSE?**\n",
        "- **Lower MSE**: Indicates that the model’s predictions are closer to the actual values, meaning the model is performing well.\n",
        "- **Higher MSE**: Suggests that the predictions are far from the actual values, meaning the model may not be capturing the underlying relationship well.\n",
        "\n",
        "**Why is MSE Important?**\n",
        "MSE gives you a sense of the accuracy of your model’s predictions. Since it squares the differences between actual and predicted values, it penalizes larger errors more heavily, making it a sensitive measure of model performance. However, it’s important to remember that MSE is in the units of the target variable squared, which can make interpretation tricky if you're comparing models or datasets.\n",
        "\n",
        "**Key Difference Between MSE and R-squared:**\n",
        "- **MSE** is an absolute measure of prediction error in the original units of the target variable.\n",
        "- **R-squared** is a relative measure that tells you the proportion of variance explained by the model.\n",
        "\n",
        "Both R-squared and MSE are critical metrics for evaluating the performance of a linear regression model, and together they provide a comprehensive picture of how well your model is doing."
      ],
      "metadata": {
        "id": "2bPhB7-Zof_Q"
      }
    },
    {
      "cell_type": "code",
      "source": [
        "from sklearn.metrics import mean_squared_error, r2_score\n",
        "\n",
        "# Calculate Mean Squared Error\n",
        "mse = mean_squared_error(y_test, y_pred)\n",
        "print(f\"Mean Squared Error: {mse}\")\n",
        "\n",
        "# Calculate R-squared\n",
        "r2 = r2_score(y_test, y_pred)\n",
        "print(f\"R-squared: {r2}\")"
      ],
      "metadata": {
        "colab": {
          "base_uri": "https://localhost:8080/"
        },
        "id": "nxFUXGjlohbJ",
        "outputId": "866860b7-0e96-453d-a118-b7a449d7d589"
      },
      "execution_count": null,
      "outputs": [
        {
          "output_type": "stream",
          "name": "stdout",
          "text": [
            "Mean Squared Error: 0.7101545673080232\n",
            "R-squared: 0.022044033777463667\n"
          ]
        }
      ]
    },
    {
      "cell_type": "markdown",
      "source": [
        "**Step 5: Visualize the Results**"
      ],
      "metadata": {
        "id": "ZyeNnqfYoinw"
      }
    },
    {
      "cell_type": "code",
      "source": [
        "import matplotlib.pyplot as plt\n",
        "\n",
        "plt.scatter(X_test, y_test, color='blue', label='Actual')\n",
        "plt.plot(X_test, y_pred, color='red', label='Predicted')\n",
        "plt.xlabel('Feature')\n",
        "plt.ylabel('Target')\n",
        "plt.title('Linear Regression')\n",
        "plt.legend()\n",
        "plt.show()"
      ],
      "metadata": {
        "colab": {
          "base_uri": "https://localhost:8080/",
          "height": 472
        },
        "id": "tkNHZaRnol43",
        "outputId": "261105c1-dab1-4398-8928-5028f5c39c9b"
      },
      "execution_count": null,
      "outputs": [
        {
          "output_type": "display_data",
          "data": {
            "text/plain": [
              "<Figure size 640x480 with 1 Axes>"
            ],
            "image/png": "[encoded data removed]"
          },
          "metadata": {}
        }
      ]
    },
    {
      "cell_type": "markdown",
      "source": [
        "## **4. Advanced: Multi-variate Linear Regression Analysis**\n",
        "\n",
        "Now that we've done basic linear regression analysis with one x and one y variable (\"how does x predict y?\"), we'll see how to use multiple x variables to predict."
      ],
      "metadata": {
        "id": "ZY2jjXgDxGYq"
      }
    },
    {
      "cell_type": "markdown",
      "source": [
        "**Step 1: Select Features and Target Variable**"
      ],
      "metadata": {
        "id": "O3R0zMaHxGYq"
      }
    },
    {
      "cell_type": "code",
      "source": [
        "# Assuming 'X' is the feature and 'y' is the target variable. This means we want\n",
        "# to see how much X predicts y.\n",
        "data_cleaned = pd.get_dummies(data_cleaned, columns=['Rating'], drop_first=True)\n",
        "X = data_cleaned[['Budget'] + [col for col in data_cleaned.columns if 'Rating' in col]]\n",
        "y = data_cleaned['IMDbScore']"
      ],
      "metadata": {
        "id": "0DhipitsxGYq"
      },
      "execution_count": null,
      "outputs": []
    },
    {
      "cell_type": "markdown",
      "source": [
        "**Step 2: Split Data into Training and Testing Sets**"
      ],
      "metadata": {
        "id": "H_WfLr9ZxGYq"
      }
    },
    {
      "cell_type": "code",
      "source": [
        "from sklearn.model_selection import train_test_split\n",
        "\n",
        "X_train, X_test, y_train, y_test = train_test_split(X, y, test_size=0.2, random_state=42)"
      ],
      "metadata": {
        "id": "K8l4nt5UxGYq"
      },
      "execution_count": null,
      "outputs": []
    },
    {
      "cell_type": "markdown",
      "source": [
        "**Step 3: Perform Linear Regression**"
      ],
      "metadata": {
        "id": "8m4PLnm7xGYq"
      }
    },
    {
      "cell_type": "code",
      "source": [
        "from sklearn.linear_model import LinearRegression\n",
        "\n",
        "# Create a linear regression model\n",
        "model = LinearRegression()\n",
        "\n",
        "# Train the model on the training data\n",
        "model.fit(X_train, y_train)\n",
        "\n",
        "# Make predictions on the testing data\n",
        "y_pred = model.predict(X_test)"
      ],
      "metadata": {
        "id": "WBvAEv4JxGYq"
      },
      "execution_count": null,
      "outputs": []
    },
    {
      "cell_type": "markdown",
      "source": [
        "**Step 4: Evaluate the Model**"
      ],
      "metadata": {
        "id": "tq_eGpzJxGYq"
      }
    },
    {
      "cell_type": "code",
      "source": [
        "from sklearn.metrics import mean_squared_error, r2_score\n",
        "\n",
        "# Calculate Mean Squared Error\n",
        "mse = mean_squared_error(y_test, y_pred)\n",
        "print(f\"Mean Squared Error: {mse}\")\n",
        "\n",
        "# Calculate R-squared\n",
        "r2 = r2_score(y_test, y_pred)\n",
        "print(f\"R-squared: {r2}\")"
      ],
      "metadata": {
        "colab": {
          "base_uri": "https://localhost:8080/"
        },
        "outputId": "906e33a9-8713-4066-d793-48c932c9efda",
        "id": "SXoBWzgAxGYq"
      },
      "execution_count": null,
      "outputs": [
        {
          "output_type": "stream",
          "name": "stdout",
          "text": [
            "Mean Squared Error: 0.6838234094537098\n",
            "R-squared: 0.05830474955203957\n"
          ]
        }
      ]
    },
    {
      "cell_type": "markdown",
      "source": [
        "**Step 5: Visualize the Results**"
      ],
      "metadata": {
        "id": "_APSejLMxGYq"
      }
    },
    {
      "cell_type": "code",
      "source": [
        "# Scatter plot of actual vs predicted values\n",
        "plt.figure(figsize=(10, 6))\n",
        "plt.scatter(y_test, y_pred, color='blue', label='Predicted vs Actual')\n",
        "plt.plot([y_test.min(), y_test.max()], [y_test.min(), y_test.max()], color='red', lw=2, label='Perfect Correlation')\n",
        "plt.xlabel('Actual Target Variable')\n",
        "plt.ylabel('Predicted Target Variable')\n",
        "plt.title('Predicted vs Actual Values')\n",
        "plt.legend()\n",
        "plt.grid(True)\n",
        "plt.show()"
      ],
      "metadata": {
        "colab": {
          "base_uri": "https://localhost:8080/",
          "height": 564
        },
        "outputId": "65716b1a-fc4d-4124-9b51-6dbe5a1c154c",
        "id": "OpueQYePxGYq"
      },
      "execution_count": null,
      "outputs": [
        {
          "output_type": "display_data",
          "data": {
            "text/plain": [
              "<Figure size 1000x600 with 1 Axes>"
            ],
            "image/png": "[encoded data removed]"
          },
          "metadata": {}
        }
      ]
    }
  ]
}